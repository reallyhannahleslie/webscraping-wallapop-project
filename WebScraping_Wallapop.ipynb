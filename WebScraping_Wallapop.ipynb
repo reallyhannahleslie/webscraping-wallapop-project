{
 "cells": [
  {
   "cell_type": "markdown",
   "id": "b8eadcb6",
   "metadata": {},
   "source": [
    "### Objective"
   ]
  },
  {
   "cell_type": "markdown",
   "id": "3f16acef",
   "metadata": {},
   "source": [
    "Wallapop is a Spanish second-hand resale site (similar to Gumtree or Facebook Marketplace) where users can sell items.\n",
    "\n",
    "The goal of this project will be to scrape data from Wallapop in order to retrieve information of search results for different types of bicicyle results."
   ]
  },
  {
   "cell_type": "markdown",
   "id": "4b2b33f6",
   "metadata": {},
   "source": [
    "### Criteria"
   ]
  },
  {
   "cell_type": "markdown",
   "id": "1b11cffd",
   "metadata": {},
   "source": [
    "- Initialize a Chrome web driver and access the Wallapop webpage\n",
    "- Use the searchbox to look for all results matching the keyword “bicicleta” (bike in Spanish)\n",
    "- Under the different search options provided, only access those entries in the category “Bicicletas” (bikes in Spanish)\n",
    "- Filter the search results according to the following criteria:\n",
    "    - 1. Location. Only retrieve results in “España, Barcelona” and narrow down the search to a maximum of “10km”\n",
    "    - 2. Price. Limit the price to 800€.\n",
    "    - 3. Subfield. Within the “Bicicletas” field, there are multiple subfields available. Include only results in the “Bicicletas y triciclos” subfield. \n",
    "    - 4. Labels. Retrieve only those results that correspond to “Bicicletas de carretera” (road bikes), “Bicicletas plegables” (foldable bikes) or “MTB” (mountain bikes).\n",
    "    - 5. State. Only include those results that correspond to bikes that are “Nuevo” (New), “Como nuevo” (As good as new) and “En buen estado” (In good condition).\n",
    "- Considering all the different combinations among the options above (\"Bicicletas de carretera\" and \"Nuevo\", \"Bicicletas de carretera\" and \"En buen estado\", etc.), retrieve the following information for all the available results (if less than 250) or for the first 250 results (if more than 250): Exclude all results corresponding to advertss.\n",
    "    - The URL address to the post\n",
    "    - The URL address to the displayed image\n",
    "    - The title of the post\n",
    "    - The price\n",
    "    - The full description (as shown in the results page)\n",
    "- Store the retrieved information in a DataFrame called df under the following columns:\n",
    "    - \"Link\" (in str form)\n",
    "    - “Title” (in str/object form)\n",
    "    - “Description” (in str/object form)\n",
    "    - “Price” (in float form)\n",
    "    - “Image” (in str/object form)."
   ]
  },
  {
   "cell_type": "markdown",
   "id": "7f6dbad2",
   "metadata": {},
   "source": [
    "### Approach"
   ]
  },
  {
   "cell_type": "markdown",
   "id": "038c5013",
   "metadata": {},
   "source": [
    "Create a function for each stage of the scraping process before running them for each of the define subcategory combinations.\n",
    "\n",
    "Get the list of filtering combinations for the type and state of the item and open a new browser to access the data.\n",
    "\n",
    "For each browser opened:\n",
    "* filter the data (general filters with a specific state-type combination)\n",
    "* try scrolling till we reach the maximum number of allowed results or obtain all the items available from the filter applied\n",
    "    * if we're not able to load new results in 3 minutes we stop scraping and collect the available data\n",
    "* create a dataframe with data collected and clean the data, then aggregate for final answer"
   ]
  },
  {
   "cell_type": "markdown",
   "id": "96adc135",
   "metadata": {},
   "source": [
    "#### Import required libraries"
   ]
  },
  {
   "cell_type": "code",
   "execution_count": null,
   "id": "9b326c27",
   "metadata": {},
   "outputs": [],
   "source": [
    "import re\n",
    "import time\n",
    "import locale\n",
    "from itertools import product\n",
    "\n",
    "import numpy as np\n",
    "import pandas as pd\n",
    "\n",
    "from selenium import webdriver\n",
    "from selenium.webdriver import ActionChains\n",
    "from selenium.webdriver.common.by import By\n",
    "from selenium.webdriver.support.wait import WebDriverWait\n",
    "from selenium.webdriver.support import expected_conditions as EC\n",
    "from selenium.webdriver.common.keys import Keys\n",
    "\n",
    "import warnings\n",
    "warnings.filterwarnings(\"ignore\", category=DeprecationWarning)"
   ]
  },
  {
   "cell_type": "markdown",
   "id": "06aca232",
   "metadata": {},
   "source": [
    "#### Launch Wallapop home page"
   ]
  },
  {
   "cell_type": "code",
   "execution_count": null,
   "id": "8a58d478",
   "metadata": {},
   "outputs": [],
   "source": [
    "def getPage(driver):\n",
    "    # Open webpage\n",
    "    driver.get('https://www.wallapop.com/')\n",
    "    \n",
    "    # Wait for cookie options to appear on the page\n",
    "    cookie_buttons = WebDriverWait(\n",
    "        driver, 30).until(\n",
    "            EC.element_to_be_clickable((By.ID, 'onetrust-button-group'))\n",
    "    )\n",
    "\n",
    "    # Get the accept cookie button\n",
    "    accept_cookie = cookie_buttons.find_element(By.ID, 'onetrust-accept-btn-handler')\n",
    "\n",
    "    # Accept all cookies\n",
    "    accept_cookie.click()\n",
    "    \n",
    "    return driver"
   ]
  },
  {
   "cell_type": "markdown",
   "id": "b1fcee98",
   "metadata": {},
   "source": [
    "#### Add 'bicicleta' search term"
   ]
  },
  {
   "cell_type": "code",
   "execution_count": null,
   "id": "16288761",
   "metadata": {},
   "outputs": [],
   "source": [
    "def searchItem(driver):\n",
    "    # Get the search input\n",
    "    search = driver.find_element(By.CLASS_NAME, 'Search__input')\n",
    "    \n",
    "    # Search for 'bicicleta'\n",
    "    search.send_keys('bicicleta')\n",
    "    search.send_keys(Keys.ENTER)\n",
    "    \n",
    "    return driver"
   ]
  },
  {
   "cell_type": "markdown",
   "id": "d7dc4433",
   "metadata": {},
   "source": [
    "#### Select all bicicleta filter categories"
   ]
  },
  {
   "cell_type": "code",
   "execution_count": null,
   "id": "5b1f0fa2",
   "metadata": {},
   "outputs": [],
   "source": [
    "def filterData__categories(driver):\n",
    "    # Get all the filters\n",
    "    filters = WebDriverWait(\n",
    "        driver, 30).until(\n",
    "            EC.element_to_be_clickable((By.CLASS_NAME, 'FiltersWrapper__bar'))\n",
    "    )\n",
    "    \n",
    "    # Click the categories (Todas las categorias) filter\n",
    "    filters.find_element(By.XPATH, \"//div[contains(text(), 'Todas las categorías')]\").click()\n",
    "    \n",
    "    WebDriverWait(driver, 5) # Temporal pause\n",
    "    \n",
    "    # Click the Bicicletas to filter the results\n",
    "    categories = driver.find_element(By.CLASS_NAME, 'CategoriesFilter__grid')\n",
    "    categories.find_element(By.XPATH, \"//span[contains(text(), 'Bicicletas')]\").click()\n",
    "    \n",
    "    WebDriverWait(driver, 5) # Temporal pause\n",
    "    \n",
    "    return driver"
   ]
  },
  {
   "cell_type": "markdown",
   "id": "40b3b952",
   "metadata": {},
   "source": [
    "#### Filter only for those in Barcelona, Espana"
   ]
  },
  {
   "cell_type": "code",
   "execution_count": null,
   "id": "79f0d65a",
   "metadata": {},
   "outputs": [],
   "source": [
    "def filterData__location(driver):\n",
    "    # Get all the filters\n",
    "    filters = WebDriverWait(\n",
    "        driver, 30).until(\n",
    "            EC.element_to_be_clickable((By.CLASS_NAME, 'FiltersWrapper__bar'))\n",
    "    )\n",
    "    \n",
    "    # Click the location (España, Madrid) filter\n",
    "    filters.find_element(By.XPATH, \"//div[contains(text(), 'España')]\").click()\n",
    "    \n",
    "    # Get location search bar\n",
    "    search_location = driver.find_element(By.CLASS_NAME, 'LocationFilter__input')\n",
    "    \n",
    "    # Search for España, Barcelona\n",
    "    search_location.clear()\n",
    "    search_location.send_keys('España, Barcelona')\n",
    "    \n",
    "    # Select first option\n",
    "    search_result = WebDriverWait(\n",
    "        driver, 30).until(\n",
    "            EC.element_to_be_clickable((By.CLASS_NAME, 'LocationFilter__search'))\n",
    "    )\n",
    "\n",
    "    WebDriverWait(\n",
    "        search_result, 30).until(\n",
    "            EC.element_to_be_clickable((By.TAG_NAME, 'button'))\n",
    "    ).click()\n",
    "    \n",
    "    # Find the slider and its value\n",
    "    slider = WebDriverWait(\n",
    "        driver, 30).until(\n",
    "            EC.element_to_be_clickable((By.XPATH, \"//span[@role='slider']\"))\n",
    "    )\n",
    "    slider_value = driver.find_element(By.CLASS_NAME, 'ngx-slider-model-value')\n",
    "    \n",
    "    # Move slider to reduce search radius\n",
    "    action = ActionChains(driver)\n",
    "    action.click_and_hold(slider).move_by_offset(-450, 0).release().perform()\n",
    "    \n",
    "    WebDriverWait(driver, 5) # Temporal pause\n",
    "    \n",
    "    # Accept changes\n",
    "    buttons = driver.find_element(By.CLASS_NAME, 'FilterTemplate__actions')\n",
    "    buttons = buttons.find_elements(By.XPATH, '//tsl-button')\n",
    "\n",
    "    for button in buttons: \n",
    "        if button.text == 'Aplicar':\n",
    "            button.click()\n",
    "            break\n",
    "            \n",
    "    WebDriverWait(driver, 5) # Temporal pause\n",
    "            \n",
    "    return driver"
   ]
  },
  {
   "cell_type": "markdown",
   "id": "ac7fa26b",
   "metadata": {},
   "source": [
    "#### Select specific subcategories (road bikes, foldable bikes, mountain bikes)"
   ]
  },
  {
   "cell_type": "code",
   "execution_count": null,
   "id": "05a7de56",
   "metadata": {},
   "outputs": [],
   "source": [
    "def filterData__type(driver, item_type):\n",
    "    # Get all the filters\n",
    "    filters = WebDriverWait(\n",
    "        driver, 30).until(\n",
    "            EC.element_to_be_clickable((By.CLASS_NAME, 'FiltersWrapper__bar'))\n",
    "    )\n",
    "    \n",
    "    # Click the Subcategory (Subcategoría) filter\n",
    "    filters.find_element(By.XPATH, \"//div[contains(text(), 'Subcategoría')]\").click()\n",
    "    \n",
    "    # Click the bicycles and tricycles categories\n",
    "    sub_form = WebDriverWait(\n",
    "        driver, 30).until(\n",
    "            EC.element_to_be_clickable((By.CLASS_NAME, 'MultiSelectFilter__form'))\n",
    "    )\n",
    "    subcategories = sub_form.find_elements(By.CLASS_NAME, 'MultiSelectOption')\n",
    "\n",
    "    for category in subcategories:\n",
    "        if category.text == 'Bicicletas y triciclos':\n",
    "            category.click()\n",
    "            break\n",
    "            \n",
    "    # Select Bicicletas de carretera (road bikes), Bicicletas plegables (foldable bikes) & \n",
    "    # MTB (mountain bikes) options in the above category\n",
    "    cat_form = WebDriverWait(\n",
    "        driver, 30).until(\n",
    "            EC.element_to_be_clickable((By.CLASS_NAME, 'MultiSelectFilter__form'))\n",
    "    )\n",
    "    options = cat_form.find_elements(By.CLASS_NAME, 'MultiSelectOption')\n",
    "\n",
    "    for option in options:\n",
    "        option.click()\n",
    "        if option.text in [item_type]:\n",
    "            option.find_element(By.CLASS_NAME, 'Checkbox__mark').click()\n",
    "    \n",
    "    WebDriverWait(driver, 5) # Temporal pause\n",
    "    \n",
    "    # Accept changes\n",
    "    buttons = driver.find_element(By.CLASS_NAME, 'FilterTemplate__actions')\n",
    "    buttons = buttons.find_elements(By.XPATH, '//tsl-button')\n",
    "\n",
    "    for button in buttons: \n",
    "        if button.text == 'Aplicar':\n",
    "            button.click()\n",
    "            break\n",
    "            \n",
    "    WebDriverWait(driver, 5) # Temporal pause\n",
    "    \n",
    "    # Check if filter was clicked else try filtering again\n",
    "    try:\n",
    "        # Get all the filters\n",
    "        filters = WebDriverWait(\n",
    "            driver, 30).until(\n",
    "                EC.element_to_be_clickable((By.CLASS_NAME, 'FiltersWrapper__bar'))\n",
    "        )\n",
    "\n",
    "        # Click the Subcategory (Subcategoría) filter\n",
    "        filters.find_element(By.XPATH, \"//div[contains(text(), 'Subcategoría')]\")\n",
    "        \n",
    "        filterData__type(driver, item_type)\n",
    "    except:\n",
    "        pass\n",
    "            \n",
    "    return driver"
   ]
  },
  {
   "cell_type": "markdown",
   "id": "bf5c8878",
   "metadata": {},
   "source": [
    "#### Select specific item conditions (new, like new, good condition)"
   ]
  },
  {
   "cell_type": "code",
   "execution_count": null,
   "id": "2ea762f0",
   "metadata": {},
   "outputs": [],
   "source": [
    "def filterData__state(driver, item_state):\n",
    "    # Get all the filters\n",
    "    filters = WebDriverWait(\n",
    "        driver, 30).until(\n",
    "            EC.element_to_be_clickable((By.CLASS_NAME, 'FiltersWrapper__bar'))\n",
    "    )\n",
    "    \n",
    "    # Click the State (Estado del producto) filter\n",
    "    filters.find_element(By.XPATH, \"//div[contains(text(), 'Estado del producto')]\").click()\n",
    "    \n",
    "    # Select Nuevo (New), Como nuevo (As good as new) & En buen estado (In good condition) in above category\n",
    "    WebDriverWait(\n",
    "        driver, 30).until(\n",
    "            EC.element_to_be_clickable((By.TAG_NAME, 'form'))\n",
    "    )\n",
    "\n",
    "    options = driver.find_elements(By.CLASS_NAME, 'MultiSelectOption')\n",
    "\n",
    "    for option in options:    \n",
    "        label = option.find_element(By.CLASS_NAME, 'MultiSelectOption__label')\n",
    "\n",
    "        if label.text in [item_state]:\n",
    "            option.find_element(By.CLASS_NAME, 'Checkbox__mark').click()\n",
    "\n",
    "    WebDriverWait(driver, 5) # Temporal pause       \n",
    "    \n",
    "    # Accept changes\n",
    "    buttons = driver.find_element(By.CLASS_NAME, 'FilterTemplate__actions')\n",
    "    buttons = buttons.find_elements(By.XPATH, '//tsl-button')\n",
    "\n",
    "    for button in buttons: \n",
    "        if button.text == 'Aplicar':\n",
    "            button.click()\n",
    "            break\n",
    "            \n",
    "    WebDriverWait(driver, 5) # Temporal pause\n",
    "    \n",
    "    # Check if filter was clicked else try filtering again\n",
    "    try:\n",
    "        # Get all the filters\n",
    "        filters = WebDriverWait(\n",
    "            driver, 30).until(\n",
    "                EC.element_to_be_clickable((By.CLASS_NAME, 'FiltersWrapper__bar'))\n",
    "        )\n",
    "\n",
    "        # Click the State (Estado del producto) filter\n",
    "        filters.find_element(By.XPATH, \"//div[contains(text(), 'Estado del producto')]\")\n",
    "        \n",
    "        filterData__state(driver, item_state)\n",
    "    except:\n",
    "        pass\n",
    "            \n",
    "    return driver"
   ]
  },
  {
   "cell_type": "markdown",
   "id": "2271fe70",
   "metadata": {},
   "source": [
    "#### Define maximum item price of €800"
   ]
  },
  {
   "cell_type": "code",
   "execution_count": null,
   "id": "06ab6ba1",
   "metadata": {},
   "outputs": [],
   "source": [
    "def filterData__price(driver):\n",
    "    # Get all the filters\n",
    "    filters = WebDriverWait(\n",
    "        driver, 30).until(\n",
    "            EC.element_to_be_clickable((By.CLASS_NAME, 'FiltersWrapper__bar'))\n",
    "    )\n",
    "\n",
    "    # Click the price (Precio) filter\n",
    "    filters.find_element(By.XPATH, \"//div[contains(text(), 'Precio')]\").click()\n",
    "\n",
    "    # Enter the price limit\n",
    "    max_input = driver.find_element(By.XPATH, \"//input[@formcontrolname='max']\")\n",
    "    max_input.clear()\n",
    "    max_input.send_keys('800')\n",
    "    \n",
    "    WebDriverWait(driver, 5) # Temporal pause\n",
    "\n",
    "    # Accept changes\n",
    "    buttons = driver.find_element(By.CLASS_NAME, 'FilterTemplate__actions')\n",
    "    buttons = buttons.find_elements(By.XPATH, '//tsl-button')\n",
    "\n",
    "    for button in buttons: \n",
    "        if button.text == 'Aplicar':\n",
    "            button.click()\n",
    "            break\n",
    "            \n",
    "    WebDriverWait(driver, 5) # Temporal pause\n",
    "    \n",
    "    # Check if filter was clicked else try filtering again\n",
    "    try:\n",
    "        # Get all the filters\n",
    "        filters = WebDriverWait(\n",
    "            driver, 30).until(\n",
    "                EC.element_to_be_clickable((By.CLASS_NAME, 'FiltersWrapper__bar'))\n",
    "        )\n",
    "\n",
    "        # Click the price (Precio) filter\n",
    "        filters.find_element(By.XPATH, \"//div[contains(text(), 'Precio')]\")\n",
    "        \n",
    "        filterData__price(driver)\n",
    "    except:\n",
    "        pass\n",
    "            \n",
    "    return driver"
   ]
  },
  {
   "cell_type": "markdown",
   "id": "fd9e693d",
   "metadata": {},
   "source": [
    "#### Apply all filters"
   ]
  },
  {
   "cell_type": "code",
   "execution_count": null,
   "id": "717a5980",
   "metadata": {},
   "outputs": [],
   "source": [
    "def filterData(driver, item_type, item_state):\n",
    "    # Categories\n",
    "    driver = filterData__categories(driver)\n",
    "    \n",
    "    # Location\n",
    "    driver = filterData__location(driver)\n",
    "            \n",
    "    # Type\n",
    "    driver = filterData__type(driver, item_type)\n",
    "            \n",
    "    # State\n",
    "    driver = filterData__state(driver, item_state)\n",
    "            \n",
    "    # Price\n",
    "    driver = filterData__price(driver)\n",
    "            \n",
    "    return driver"
   ]
  },
  {
   "cell_type": "markdown",
   "id": "e90297f4",
   "metadata": {},
   "source": [
    "#### Load all page items"
   ]
  },
  {
   "cell_type": "code",
   "execution_count": null,
   "id": "5c17a3d3",
   "metadata": {},
   "outputs": [],
   "source": [
    "def extractData__preprocess(driver):\n",
    "    # Scroll to end of page if we don't have all the data\n",
    "    while True:\n",
    "        try:\n",
    "            driver.execute_script(\"window.scrollBy(0, 100);\")\n",
    "            \n",
    "            footer = WebDriverWait(\n",
    "                driver, 30).until(\n",
    "                    EC.visibility_of_element_located((By.CLASS_NAME, 'Footer'))\n",
    "            )\n",
    "            break\n",
    "        except:\n",
    "            driver.execute_script(\"window.scrollBy(0, 200);\")\n",
    "            WebDriverWait(driver, 5)\n",
    "            \n",
    "    # Check if there are more items and click on the more items button if there are\n",
    "    try:\n",
    "        more_button = driver.find_element(By.CLASS_NAME, 'Search__btnContainer')\n",
    "        more_button.click()\n",
    "    except:\n",
    "        pass\n",
    "    \n",
    "    # Check the number of items on the page\n",
    "    item_group = driver.find_element(By.CLASS_NAME, 'ItemCardList')\n",
    "    num_of_items = len(item_group.find_elements(By.TAG_NAME, 'a'))\n",
    "    \n",
    "    start = time.time()\n",
    "\n",
    "    while True:\n",
    "        # Previous number of items to track changes\n",
    "        _ = len(item_group.find_elements(By.TAG_NAME, 'a'))\n",
    "        \n",
    "        # Stop retrieval if there are no changes on the page after 3mins\n",
    "        if (time.time() - start) / 60 > 3: break\n",
    "            \n",
    "        try:\n",
    "        # Stop scrolling if we reach the end of the page \n",
    "        # (end of page - footer showing means there are no more results)\n",
    "            WebDriverWait(\n",
    "                driver, 5).until(\n",
    "                    EC.visibility_of_element_located((By.CLASS_NAME, 'Footer'))\n",
    "                )\n",
    "            break\n",
    "        except:\n",
    "            pass\n",
    "\n",
    "        # Skip the scrolling part of the loop if the other results are still loading\n",
    "        try:            \n",
    "            driver.find_element(By.CLASS_NAME, 'Search__spinner')\n",
    "            continue\n",
    "        except:\n",
    "            pass\n",
    "\n",
    "        # Scroll\n",
    "        driver.execute_script(\"window.scrollBy(0, 500);\")\n",
    "\n",
    "        # Check the number of items on the page after scrolling\n",
    "        item_group = driver.find_element(By.CLASS_NAME, 'ItemCardList')\n",
    "        num_of_items = len(item_group.find_elements(By.TAG_NAME, 'a'))\n",
    "\n",
    "        # Stop scrolling if we have reached the maximum allowed items\n",
    "        if num_of_items > 250: break\n",
    "\n",
    "        try:\n",
    "            # Stop scrolling if we reach the end of the page \n",
    "            # (end of page - footer showing means there are no more results)\n",
    "            WebDriverWait(\n",
    "                driver, 5).until(\n",
    "                    EC.visibility_of_element_located((By.CLASS_NAME, 'Footer'))\n",
    "                )\n",
    "            break\n",
    "        except:\n",
    "            # Scroll\n",
    "            driver.execute_script(\"window.scrollBy(0, 500);\")\n",
    "                \n",
    "    # Get all items listed after all the scrolling we've done\n",
    "    items = item_group.find_elements(By.TAG_NAME, 'a')\n",
    "    \n",
    "    return driver, items[:250] # Return the updated driver and limit the items retrieved to the first 250"
   ]
  },
  {
   "cell_type": "markdown",
   "id": "67326a8c",
   "metadata": {},
   "source": [
    "#### Extract data from pages and create dataframe"
   ]
  },
  {
   "cell_type": "code",
   "execution_count": null,
   "id": "2b1d83d3",
   "metadata": {},
   "outputs": [],
   "source": [
    "def extractData__data(driver, items, item_type, item_state):\n",
    "    \n",
    "    page_urls = []\n",
    "    img_urls = []\n",
    "    titles = []\n",
    "    prices = []\n",
    "    descs = []\n",
    "    types = []\n",
    "    states = []\n",
    "    child_bools = []\n",
    "    dates = []\n",
    "    int_sizes = []\n",
    "    char_sizes = []\n",
    "\n",
    "    for item in items:\n",
    "        # Get the url for the displayed image\n",
    "        img_urls.append(item.find_element(By.TAG_NAME, 'img').get_attribute('src'))\n",
    "        \n",
    "        # Save the item type and state from the filter parameter\n",
    "        types.append(item_type)\n",
    "        states.append(item_state)\n",
    "\n",
    "        # Click on item\n",
    "        item.click()\n",
    "\n",
    "        # Switch to new opened tab\n",
    "        driver.switch_to.window(driver.window_handles[1])\n",
    "        \n",
    "        # Get the url for the item\n",
    "        page_urls.append(driver.current_url)\n",
    "\n",
    "        try:\n",
    "            # Wait for the item details to appear\n",
    "            item_details = WebDriverWait(\n",
    "                driver, 30).until(\n",
    "                    EC.visibility_of_element_located((By.CLASS_NAME, 'detail-item'))\n",
    "                )\n",
    "        except:\n",
    "            \n",
    "            # Close new tab\n",
    "            driver.close()\n",
    "\n",
    "            # Switch back to initial tab\n",
    "            driver.switch_to.window(driver.window_handles[0])\n",
    "            \n",
    "            titles.append(item.find_element(By.CLASS_NAME, 'ItemCard__title').text)\n",
    "            \n",
    "            price = item.find_element(By.CLASS_NAME, 'ItemCard__price').text\n",
    "            price = price.replace('.', '').replace(',', '.').replace('€', '')\n",
    "            prices.append(float(price.strip()))\n",
    "            \n",
    "            descs.append(item.find_element(By.CLASS_NAME, 'ItemCard__description').text)\n",
    "            \n",
    "            child_bools.append(None)\n",
    "            dates.append(None)\n",
    "            int_sizes.append(None)\n",
    "            char_sizes.append(None)\n",
    "            continue\n",
    "\n",
    "        # Get the title\n",
    "        title = driver.find_element(By.ID, 'item-detail-title').text\n",
    "        titles.append(title)\n",
    "\n",
    "        # Get the price\n",
    "        price = driver.find_element(By.CLASS_NAME, 'card-product-detail-price').text\n",
    "        price = price.replace('.', '').replace(',', '.').replace('€', '').replace('EUR', '')\n",
    "        prices.append(float(price.strip()))\n",
    "\n",
    "        # Get the description for the item\n",
    "        description = driver.find_element(By.CLASS_NAME, 'card-product-detail-description').text\n",
    "        descs.append(description)\n",
    "\n",
    "        # Assign default value of False to child\n",
    "        child = False\n",
    "\n",
    "        # Check description and title for each of the provided keywords\n",
    "        child_keywords = [\"niño/a\", \"niño\", \"niña\", \"niños\", \"niñas\", \"niño/as\"]\n",
    "\n",
    "        for word in child_keywords:\n",
    "            if (word in title) or (word in description):\n",
    "                child = True\n",
    "\n",
    "        child_bools.append(child)\n",
    "        \n",
    "        # Get the bike size\n",
    "        text = driver.find_element(By.CLASS_NAME, 'container-detail').text\n",
    "        text = text.replace('\\n', ' ')\n",
    "\n",
    "        int_size, char_size = None, None\n",
    "\n",
    "        if re.search(r'talla [0-9]+', text.lower()):\n",
    "            # Extract unique text that contains talla and any possible numeric indication of the size of the bike\n",
    "            sizes = set(re.findall(r'talla [0-9]+', text.lower())) | set(re.findall(r'talla[0-9]+', text.lower()))\n",
    "            # Remove talla and clear all spaces from the found text so we keep only the numeric size\n",
    "            sizes = map(lambda x: x.strip('talla').strip(), sizes)\n",
    "            # Separate sizes with '/' if there's more than one different size\n",
    "            int_size = '/'.join(set(sizes).difference({''}))\n",
    "\n",
    "        if re.search(r'talla [a-z]+', text.lower()):\n",
    "            # Extract unique text that contains talla and any possible character indication of the size of the bike\n",
    "            sizes = set(re.findall(r'talla [a-z]+', text.lower())) | set(re.findall(r'talla[a-z]+', text.lower()))\n",
    "            # Remove talla and clear all spaces from the found text so we keep only the character sizes\n",
    "            sizes = map(lambda x: x.strip('talla').strip(), sizes)\n",
    "            # Limit results to predefined result set\n",
    "            sizes = set(sizes).intersection({'xs', 's', 'peque', 'm', 'median', 'l', 'grande'})\n",
    "            # Separate sizes with '/' if there's more than one different size\n",
    "            char_size = '/'.join(set(sizes).difference({''}))\n",
    "\n",
    "        int_sizes.append(int_size)\n",
    "        char_sizes.append(char_size)\n",
    "\n",
    "        # Get the publication date\n",
    "        date = driver.find_element(By.CLASS_NAME, 'card-product-detail-user-stats-published').text\n",
    "\n",
    "        dates.append(date)\n",
    "\n",
    "        # Close new tab\n",
    "        driver.close()\n",
    "\n",
    "        # Switch back to initial tab\n",
    "        driver.switch_to.window(driver.window_handles[0])\n",
    "        \n",
    "    df = pd.DataFrame({\n",
    "        'Link': page_urls, \n",
    "        'Title': titles,\n",
    "        'Description': descs,\n",
    "        'Price': prices,\n",
    "        'Image': img_urls,\n",
    "        'Type': types,\n",
    "        'State': states,\n",
    "        'Children': child_bools,\n",
    "        'Size': int_sizes,\n",
    "        'Size (letter)': char_sizes,\n",
    "        'Date': dates\n",
    "    })\n",
    "    \n",
    "    return driver, df"
   ]
  },
  {
   "cell_type": "code",
   "execution_count": null,
   "id": "f2e01f1f",
   "metadata": {},
   "outputs": [],
   "source": [
    "def extractData(driver, item_type, item_state):\n",
    "        \n",
    "    # Prepare page/data for extraction\n",
    "    driver, items = extractData__preprocess(driver)\n",
    "    \n",
    "    driver.execute_script('window.scrollBy(0, 500);')\n",
    "    WebDriverWait(driver, 30)\n",
    "    \n",
    "    item_group = driver.find_element(By.CLASS_NAME, 'ItemCardList')\n",
    "    num_of_items = len(item_group.find_elements(By.TAG_NAME, 'a'))\n",
    "    \n",
    "    # Check if new elements now appear on the page and if it increases the results but stays under 250\n",
    "    if (num_of_items > len(items)):\n",
    "        if (len(items) < 250):\n",
    "            # Extracting the items again to include the new items\n",
    "            extractData(driver, item_type, item_state)\n",
    "    \n",
    "    # Extract data\n",
    "    driver, df = extractData__data(driver, items, item_type, item_state)\n",
    "    \n",
    "    return driver, df"
   ]
  },
  {
   "cell_type": "markdown",
   "id": "809c9167",
   "metadata": {},
   "source": [
    "#### Create combinations of subcategories and run all required functions"
   ]
  },
  {
   "cell_type": "code",
   "execution_count": null,
   "id": "5e59b5c7",
   "metadata": {},
   "outputs": [],
   "source": [
    "item_types = ['Bicicletas de carretera', 'Bicicletas plegables', 'MTB']\n",
    "item_states = ['Nuevo', 'Como nuevo', 'En buen estado']\n",
    "\n",
    "# Create a complete combination of the above filters\n",
    "combinations = list(product(item_types, item_states))\n",
    "\n",
    "data = pd.DataFrame()\n",
    "\n",
    "for item_type, item_state in combinations:\n",
    "    # Open webdriver (browser)\n",
    "    DRIVER_PATH = '/Downloads/chromedriver'\n",
    "    driver = webdriver.Chrome(DRIVER_PATH)\n",
    "    \n",
    "    driver.set_window_size(width=1200, height=830)\n",
    "\n",
    "    driver = getPage(driver)\n",
    "    driver = searchItem(driver)\n",
    "    driver = filterData(driver, item_type, item_state)\n",
    "    driver, df = extractData(driver, item_type, item_state)\n",
    "    data = pd.concat([data, df])\n",
    "    print(f'{item_type}, {item_state}, {df.shape[0]}')\n",
    "    \n",
    "    driver.close()"
   ]
  },
  {
   "cell_type": "code",
   "execution_count": null,
   "id": "c2f0a7ae",
   "metadata": {},
   "outputs": [],
   "source": [
    "data.info()"
   ]
  },
  {
   "cell_type": "markdown",
   "id": "f15b8042",
   "metadata": {},
   "source": [
    "#### Delete duplicated items based on the page url (link)"
   ]
  },
  {
   "cell_type": "code",
   "execution_count": null,
   "id": "3b5ab8f6",
   "metadata": {},
   "outputs": [],
   "source": [
    "data.drop_duplicates(subset=['Link'], inplace=True)"
   ]
  },
  {
   "cell_type": "code",
   "execution_count": null,
   "id": "b9803ea0",
   "metadata": {},
   "outputs": [],
   "source": [
    "data.info()"
   ]
  },
  {
   "cell_type": "markdown",
   "id": "f2932452",
   "metadata": {},
   "source": [
    "#### Use Spanish Locale"
   ]
  },
  {
   "cell_type": "code",
   "execution_count": null,
   "id": "b017028a",
   "metadata": {},
   "outputs": [],
   "source": [
    "locale.setlocale(locale.LC_TIME, 'es_ES')"
   ]
  },
  {
   "cell_type": "markdown",
   "id": "43999490",
   "metadata": {},
   "source": [
    "#### Convert published date from string to datetime obj"
   ]
  },
  {
   "cell_type": "code",
   "execution_count": null,
   "id": "67f5303b",
   "metadata": {},
   "outputs": [],
   "source": [
    "data['Date'] = pd.to_datetime(data['Date'], format='%d-%b-%Y')"
   ]
  },
  {
   "cell_type": "markdown",
   "id": "3a3a2902",
   "metadata": {},
   "source": [
    "#### Replace other identified sizes and convert the letter sizes to upper case"
   ]
  },
  {
   "cell_type": "code",
   "execution_count": null,
   "id": "4bbe4fe2",
   "metadata": {},
   "outputs": [],
   "source": [
    "size_replacers = {'peque': 's', 'median': 'm', 'grande': 'l'}\n",
    "\n",
    "for key, value in size_replacers.items():\n",
    "    data['Size (letter)'] = data['Size (letter)'].apply(lambda x: x.replace(key, value) if x else x)\n",
    "    \n",
    "data['Size (letter)'] = data['Size (letter)'].str.upper()"
   ]
  },
  {
   "cell_type": "markdown",
   "id": "0735b669",
   "metadata": {},
   "source": [
    "#### Type casting column to numeric type"
   ]
  },
  {
   "cell_type": "code",
   "execution_count": null,
   "id": "f3541b9b",
   "metadata": {},
   "outputs": [],
   "source": [
    "data['Size'] = pd.to_numeric(data['Size'], errors='coerce')"
   ]
  },
  {
   "cell_type": "markdown",
   "id": "aed0c114",
   "metadata": {},
   "source": [
    "#### Replace incorrect numerically sized bikes with np.nan"
   ]
  },
  {
   "cell_type": "code",
   "execution_count": null,
   "id": "3f2b6f9e",
   "metadata": {},
   "outputs": [],
   "source": [
    "data.loc[data['Size'] < 46, 'Size'] = np.nan"
   ]
  },
  {
   "cell_type": "markdown",
   "id": "40cd2207",
   "metadata": {},
   "source": [
    "#### Replace any null values with np.nan"
   ]
  },
  {
   "cell_type": "code",
   "execution_count": null,
   "id": "82fc0c50",
   "metadata": {},
   "outputs": [],
   "source": [
    "data.fillna(np.nan, inplace=True)"
   ]
  },
  {
   "cell_type": "markdown",
   "id": "b1535a6c",
   "metadata": {},
   "source": [
    "#### Replace any empty string with np.nan"
   ]
  },
  {
   "cell_type": "code",
   "execution_count": null,
   "id": "37ad1c22",
   "metadata": {},
   "outputs": [],
   "source": [
    "data.replace({'': np.nan}, inplace=True)"
   ]
  },
  {
   "cell_type": "markdown",
   "id": "7d5dca19",
   "metadata": {},
   "source": [
    "#### Final dataset"
   ]
  },
  {
   "cell_type": "code",
   "execution_count": null,
   "id": "4709a34c",
   "metadata": {},
   "outputs": [],
   "source": [
    "agg = data.groupby(['Type', 'State'], as_index=False)['Price'].mean()"
   ]
  },
  {
   "cell_type": "code",
   "execution_count": null,
   "id": "a2734081",
   "metadata": {},
   "outputs": [],
   "source": [
    "agg"
   ]
  }
 ],
 "metadata": {
  "kernelspec": {
   "display_name": "Python 3 (ipykernel)",
   "language": "python",
   "name": "python3"
  },
  "language_info": {
   "codemirror_mode": {
    "name": "ipython",
    "version": 3
   },
   "file_extension": ".py",
   "mimetype": "text/x-python",
   "name": "python",
   "nbconvert_exporter": "python",
   "pygments_lexer": "ipython3",
   "version": "3.9.12"
  }
 },
 "nbformat": 4,
 "nbformat_minor": 5
}
